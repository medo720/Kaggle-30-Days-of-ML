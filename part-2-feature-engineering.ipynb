{
 "cells": [
  {
   "cell_type": "code",
   "execution_count": 1,
   "id": "a8db1738",
   "metadata": {
    "_cell_guid": "b1076dfc-b9ad-4769-8c92-a6c4dae69d19",
    "_uuid": "8f2839f25d086af736a60e9eeb907d3b93b6e0e5",
    "execution": {
     "iopub.execute_input": "2021-08-20T15:05:32.696511Z",
     "iopub.status.busy": "2021-08-20T15:05:32.623468Z",
     "iopub.status.idle": "2021-08-20T15:05:34.166229Z",
     "shell.execute_reply": "2021-08-20T15:05:34.165546Z",
     "shell.execute_reply.started": "2021-08-20T14:13:08.158335Z"
    },
    "papermill": {
     "duration": 1.558953,
     "end_time": "2021-08-20T15:05:34.166487",
     "exception": false,
     "start_time": "2021-08-20T15:05:32.607534",
     "status": "completed"
    },
    "tags": []
   },
   "outputs": [
    {
     "name": "stdout",
     "output_type": "stream",
     "text": [
      "/kaggle/input/30days-folds/train_folds.csv\n",
      "/kaggle/input/30-days-of-ml/sample_submission.csv\n",
      "/kaggle/input/30-days-of-ml/train.csv\n",
      "/kaggle/input/30-days-of-ml/test.csv\n"
     ]
    }
   ],
   "source": [
    "import numpy as np\n",
    "import pandas as pd\n",
    "from sklearn import preprocessing\n",
    "from sklearn.model_selection import train_test_split\n",
    "from sklearn.ensemble import RandomForestRegressor\n",
    "from sklearn.metrics import mean_squared_error\n",
    "from xgboost import XGBRegressor\n",
    "\n",
    "import os\n",
    "for dirname, _, filenames in os.walk('/kaggle/input'):\n",
    "    for filename in filenames:\n",
    "        print(os.path.join(dirname, filename))"
   ]
  },
  {
   "cell_type": "code",
   "execution_count": 2,
   "id": "f2b4af95",
   "metadata": {
    "execution": {
     "iopub.execute_input": "2021-08-20T15:05:34.190897Z",
     "iopub.status.busy": "2021-08-20T15:05:34.190243Z",
     "iopub.status.idle": "2021-08-20T15:06:00.383588Z",
     "shell.execute_reply": "2021-08-20T15:06:00.382892Z",
     "shell.execute_reply.started": "2021-08-20T14:35:09.791687Z"
    },
    "papermill": {
     "duration": 26.211075,
     "end_time": "2021-08-20T15:06:00.383808",
     "exception": false,
     "start_time": "2021-08-20T15:05:34.172733",
     "status": "completed"
    },
    "tags": []
   },
   "outputs": [
    {
     "name": "stdout",
     "output_type": "stream",
     "text": [
      "0 0.7241755479182882\n",
      "1 0.7241138968948254\n",
      "2 0.7267386816038165\n",
      "3 0.7268357864120136\n",
      "4 0.725667388462628\n",
      "0.7255062602583143 0.001185068397378747\n"
     ]
    }
   ],
   "source": [
    "df = pd.read_csv('/kaggle/input/30days-folds/train_folds.csv')\n",
    "df_test = pd.read_csv('/kaggle/input/30-days-of-ml/test.csv')\n",
    "sample_submission = pd.read_csv('/kaggle/input/30-days-of-ml/sample_submission.csv')\n",
    "useful_features = [c for c in df.columns if c not in (\"id\",'target','kfold')]\n",
    "object_cols = [col for col in useful_features if 'cat' in col]\n",
    "numerical_cols = [col for col in useful_features if 'cont' in col]\n",
    "df_test = df_test[useful_features]\n",
    "final_preds = []\n",
    "scores = []\n",
    "for fold in range (5):\n",
    "    xtrain = df[df.kfold !=fold].reset_index(drop = True)\n",
    "    xvalid = df[df.kfold == fold].reset_index(drop =True)\n",
    "    xtest = df_test.copy()\n",
    "    #\n",
    "    ytrain = xtrain.target\n",
    "    yvalid = xvalid.target\n",
    "    #\n",
    "    xtrain = xtrain[useful_features]\n",
    "    xvalid = xvalid[useful_features]\n",
    "\n",
    "    \n",
    "  \n",
    "    ordinal_encoder =preprocessing.OrdinalEncoder()\n",
    "    xtrain[object_cols] = ordinal_encoder.fit_transform(xtrain[object_cols])\n",
    "    xvalid[object_cols] = ordinal_encoder.transform(xvalid[object_cols])\n",
    "    xtest[object_cols] = ordinal_encoder.transform(xtest[object_cols])\n",
    "    #\n",
    "    scaler = preprocessing.StandardScaler()\n",
    "    xtrain[numerical_cols] = scaler.fit_transform(xtrain[numerical_cols])\n",
    "    xvalid[numerical_cols] = scaler.transform(xvalid[numerical_cols])\n",
    "    xtest[numerical_cols] = scaler.transform(xtest[numerical_cols])\n",
    "    \n",
    "    model = XGBRegressor(random_state=fold,tree_method = 'gpu_hist',gpu_id =0,predictor = 'gpu_predictor')\n",
    "\n",
    "    # Train the model (will take about 10 minutes to run)\n",
    "    model.fit(xtrain, ytrain)\n",
    "    preds_valid = model.predict(xvalid)\n",
    "    preds_test = model.predict(xtest)\n",
    "    final_preds.append(preds_test)\n",
    "    rmse = mean_squared_error(yvalid, preds_valid, squared=False)\n",
    "    print(fold,rmse)\n",
    "    scores.append(rmse)\n",
    "print(np.mean(scores),np.std(scores))"
   ]
  },
  {
   "cell_type": "code",
   "execution_count": 3,
   "id": "d7c7b865",
   "metadata": {
    "execution": {
     "iopub.execute_input": "2021-08-20T15:06:00.414186Z",
     "iopub.status.busy": "2021-08-20T15:06:00.413495Z",
     "iopub.status.idle": "2021-08-20T15:07:24.254608Z",
     "shell.execute_reply": "2021-08-20T15:07:24.253872Z",
     "shell.execute_reply.started": "2021-08-20T15:02:16.933517Z"
    },
    "papermill": {
     "duration": 83.862915,
     "end_time": "2021-08-20T15:07:24.254774",
     "exception": false,
     "start_time": "2021-08-20T15:06:00.391859",
     "status": "completed"
    },
    "tags": []
   },
   "outputs": [
    {
     "name": "stdout",
     "output_type": "stream",
     "text": [
      "0 0.729073179900137\n",
      "1 0.7286941123028183\n",
      "2 0.7302315824391516\n",
      "3 0.7304305210608322\n",
      "4 0.7297044930462646\n",
      "0.7296267777498406 0.0006624450323974544\n"
     ]
    }
   ],
   "source": [
    "#polynomial features\n",
    "df = pd.read_csv('/kaggle/input/30days-folds/train_folds.csv')\n",
    "df_test = pd.read_csv('/kaggle/input/30-days-of-ml/test.csv')\n",
    "sample_submission = pd.read_csv('/kaggle/input/30-days-of-ml/sample_submission.csv')\n",
    "\n",
    "useful_features = [c for c in df.columns if c not in (\"id\",'target','kfold')]\n",
    "object_cols = [col for col in useful_features if 'cat' in col]\n",
    "numerical_cols = [col for col in useful_features if 'cont' in col]\n",
    "df_test = df_test[useful_features]\n",
    "\n",
    "poly = preprocessing.PolynomialFeatures(degree = 3,interaction_only = True,include_bias = False)\n",
    "train_poly = poly.fit_transform(df[numerical_cols])\n",
    "test_poly = poly.fit_transform(df_test[numerical_cols])\n",
    "\n",
    "df_poly = pd.DataFrame(train_poly,columns = [f\"poly_{i}\"for i in range (train_poly.shape[1])])\n",
    "df_test_poly = pd.DataFrame(test_poly,columns = [f\"poly_{i}\"for i in range (test_poly.shape[1])])\n",
    "\n",
    "df = pd.concat([df,df_poly],axis =1)\n",
    "df_test = pd.concat([df_test,df_test_poly],axis =1)\n",
    "\n",
    "\n",
    "useful_features = [c for c in df.columns if c not in (\"id\",'target','kfold')]\n",
    "object_cols = [col for col in useful_features if 'cat' in col]\n",
    "df_test = df_test[useful_features]\n",
    "\n",
    "final_preds = []\n",
    "scores = []\n",
    "for fold in range (5):\n",
    "    xtrain = df[df.kfold !=fold].reset_index(drop = True)\n",
    "    xvalid = df[df.kfold == fold].reset_index(drop =True)\n",
    "    xtest = df_test.copy()\n",
    "    #\n",
    "    ytrain = xtrain.target\n",
    "    yvalid = xvalid.target\n",
    "    #\n",
    "    xtrain = xtrain[useful_features]\n",
    "    xvalid = xvalid[useful_features]\n",
    "\n",
    "    \n",
    "  \n",
    "    ordinal_encoder =preprocessing.OrdinalEncoder()\n",
    "    xtrain[object_cols] = ordinal_encoder.fit_transform(xtrain[object_cols])\n",
    "    xvalid[object_cols] = ordinal_encoder.transform(xvalid[object_cols])\n",
    "    xtest[object_cols] = ordinal_encoder.transform(xtest[object_cols])\n",
    "    #\n",
    "  \n",
    "    \n",
    "    model = XGBRegressor(random_state=fold,tree_method = 'gpu_hist',gpu_id =0,predictor = 'gpu_predictor')\n",
    "\n",
    "    # Train the model (will take about 10 minutes to run)\n",
    "    model.fit(xtrain, ytrain)\n",
    "    preds_valid = model.predict(xvalid)\n",
    "    preds_test = model.predict(xtest)\n",
    "    final_preds.append(preds_test)\n",
    "    rmse = mean_squared_error(yvalid, preds_valid, squared=False)\n",
    "    print(fold,rmse)\n",
    "    scores.append(rmse)\n",
    "print(np.mean(scores),np.std(scores))\n"
   ]
  },
  {
   "cell_type": "code",
   "execution_count": null,
   "id": "676a9de8",
   "metadata": {
    "papermill": {
     "duration": 0.009167,
     "end_time": "2021-08-20T15:07:24.273618",
     "exception": false,
     "start_time": "2021-08-20T15:07:24.264451",
     "status": "completed"
    },
    "tags": []
   },
   "outputs": [],
   "source": []
  }
 ],
 "metadata": {
  "kernelspec": {
   "display_name": "Python 3",
   "language": "python",
   "name": "python3"
  },
  "language_info": {
   "codemirror_mode": {
    "name": "ipython",
    "version": 3
   },
   "file_extension": ".py",
   "mimetype": "text/x-python",
   "name": "python",
   "nbconvert_exporter": "python",
   "pygments_lexer": "ipython3",
   "version": "3.7.10"
  },
  "papermill": {
   "default_parameters": {},
   "duration": 121.855387,
   "end_time": "2021-08-20T15:07:25.963273",
   "environment_variables": {},
   "exception": null,
   "input_path": "__notebook__.ipynb",
   "output_path": "__notebook__.ipynb",
   "parameters": {},
   "start_time": "2021-08-20T15:05:24.107886",
   "version": "2.3.3"
  }
 },
 "nbformat": 4,
 "nbformat_minor": 5
}
